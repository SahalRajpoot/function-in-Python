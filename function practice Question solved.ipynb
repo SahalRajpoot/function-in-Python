{
  "metadata": {
    "kernelspec": {
      "name": "python",
      "display_name": "Python (Pyodide)",
      "language": "python"
    },
    "language_info": {
      "codemirror_mode": {
        "name": "python",
        "version": 3
      },
      "file_extension": ".py",
      "mimetype": "text/x-python",
      "name": "python",
      "nbconvert_exporter": "python",
      "pygments_lexer": "ipython3",
      "version": "3.8"
    }
  },
  "nbformat_minor": 5,
  "nbformat": 4,
  "cells": [
    {
      "id": "e5bf9f89-525f-4ac9-bad1-a1253dc5a81a",
      "cell_type": "code",
      "source": "# Question :1\ndef say_hello():\n    print('hello, Python Learner!')\nsay_hello()\n",
      "metadata": {
        "trusted": true
      },
      "outputs": [
        {
          "name": "stdout",
          "output_type": "stream",
          "text": "hello, Python Learner!\n"
        }
      ],
      "execution_count": 1
    },
    {
      "id": "d21af0aa-3fbc-470c-bf77-63519b95d32f",
      "cell_type": "code",
      "source": "# Question :2\ndef greet_user(name):\n     print(f\"Hi! {name}, how are you?\")\n\ngreet_user('M.sahal')\n",
      "metadata": {
        "trusted": true
      },
      "outputs": [
        {
          "name": "stdout",
          "output_type": "stream",
          "text": "Hi! M.sahal, how are you?\n"
        }
      ],
      "execution_count": 2
    },
    {
      "id": "dbee2960-2892-4c9b-bba1-eb95af2997d4",
      "cell_type": "code",
      "source": "# Question :3\ndef describe_pet(animal_type,animal_name):\n    print(f\"I have {animal_type}\")\n    print(f\"My {animal_type} name is {animal_name}\")\n\ndescribe_pet('cat','Mano')",
      "metadata": {
        "trusted": true
      },
      "outputs": [
        {
          "name": "stdout",
          "output_type": "stream",
          "text": "I have cat\nMy cat name is Mano\n"
        }
      ],
      "execution_count": 3
    },
    {
      "id": "2159c7d1-9655-404b-aa1e-45af1e86b193",
      "cell_type": "code",
      "source": "# Question :4\ndef describe_pet(animal_type,animal_name):\n    print(f\"I have {animal_type}\")\n    print(f\"My {animal_type} name is {animal_name}\")\n\ndescribe_pet('dog','Marky')\ndescribe_pet(animal_type='Dog',animal_name='Tomy')\n",
      "metadata": {
        "trusted": true
      },
      "outputs": [
        {
          "name": "stdout",
          "output_type": "stream",
          "text": "I have dog\nMy dog name is Marky\nI have Dog\nMy Dog name is Tomy\n"
        }
      ],
      "execution_count": 5
    },
    {
      "id": "5586eccb-da30-44ec-b5b5-c91c217b892c",
      "cell_type": "code",
      "source": "# Question :5\ndef get_formatted_name(first,last):\n    full_name=first+\" \"+ last\n    return full_name.title()\nget_formatted_name('muhammad','sahal')\n    ",
      "metadata": {
        "trusted": true
      },
      "outputs": [
        {
          "execution_count": 6,
          "output_type": "execute_result",
          "data": {
            "text/plain": "'Muhammad Sahal'"
          },
          "metadata": {}
        }
      ],
      "execution_count": 6
    },
    {
      "id": "ddd53b34-af78-400d-a47f-a06edf3d8178",
      "cell_type": "code",
      "source": "# Question :6\ndef get_formatted_name(first,middle,last):\n    full_name=first+\" \"+ middle+\" \"+last\n    return full_name.title()\nget_formatted_name('muhammad','sahil','rajpoot')",
      "metadata": {
        "trusted": true
      },
      "outputs": [
        {
          "execution_count": 8,
          "output_type": "execute_result",
          "data": {
            "text/plain": "'Muhammad Sahil Rajpoot'"
          },
          "metadata": {}
        }
      ],
      "execution_count": 8
    },
    {
      "id": "c82e59a9-dfd5-435c-9030-4db8123fa6df",
      "cell_type": "code",
      "source": "# Question :7\ndef build_person(first,last,age='none'):\n    person={\"first_name\":first,\"last_name\":last}\n    if age:\n        person[\"age\"]=age\n    return person\nbuild_person(\"sahil\",\"Rajpoot\")\nbuild_person(\"sahil\",\"Rajpoot\",19)",
      "metadata": {
        "trusted": true
      },
      "outputs": [
        {
          "execution_count": 11,
          "output_type": "execute_result",
          "data": {
            "text/plain": "{'first_name': 'sahil', 'last_name': 'Rajpoot', 'age': 19}"
          },
          "metadata": {}
        }
      ],
      "execution_count": 11
    },
    {
      "id": "b87e5dd6-679d-42ad-b337-666f5160971b",
      "cell_type": "code",
      "source": "# Question :8\n\ndef greet_users(usernames):\n    for user in usernames:\n        print(f\"Hello! {user}, how can i help you?\")\ngreet_users(['majid','umair','hassan','Sahal'])",
      "metadata": {
        "trusted": true
      },
      "outputs": [
        {
          "name": "stdout",
          "output_type": "stream",
          "text": "Hello! majid, how can i help you?\nHello! umair, how can i help you?\nHello! hassan, how can i help you?\nHello! Sahal, how can i help you?\n"
        }
      ],
      "execution_count": 16
    },
    {
      "id": "0685d58c-0333-4dbe-b915-e6a9d0e070dd",
      "cell_type": "code",
      "source": "# Question :9\ndef make_pizza(*toppings):\n    print(f\"Make a pizza using {toppings} things\")\nmake_pizza('peproni','cheese','slice')",
      "metadata": {
        "trusted": true
      },
      "outputs": [
        {
          "name": "stdout",
          "output_type": "stream",
          "text": "Make a pizza using ('peproni', 'cheese', 'slice') things\n"
        }
      ],
      "execution_count": 18
    },
    {
      "id": "2f00d371-f8d6-4ee1-bc4b-030d6aacf811",
      "cell_type": "code",
      "source": "# question :10\ndef build_profile(first,last, **info):\n    profile= {\"first_name\":first,\"last_name\":last}\n    if info:\n        profile.update(info)\n    return profile\nbuild_profile(\"Muhammad\",\"Sahal\", age=19,desination=\"student\",Programm=\"Bs Data Analytics\")",
      "metadata": {
        "trusted": true
      },
      "outputs": [
        {
          "execution_count": 32,
          "output_type": "execute_result",
          "data": {
            "text/plain": "{'first_name': 'Muhammad',\n 'last_name': 'Sahal',\n 'age': 19,\n 'desination': 'student',\n 'Programm': 'Bs Data Analytics'}"
          },
          "metadata": {}
        }
      ],
      "execution_count": 32
    },
    {
      "id": "cda833e7-7364-4bf0-a343-b98dcd9226bd",
      "cell_type": "code",
      "source": "",
      "metadata": {
        "trusted": true
      },
      "outputs": [],
      "execution_count": null
    }
  ]
}